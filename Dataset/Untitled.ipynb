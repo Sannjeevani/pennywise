{
 "cells": [
  {
   "cell_type": "code",
   "execution_count": 2,
   "id": "9a5fdc8f",
   "metadata": {},
   "outputs": [],
   "source": [
    "import pandas as pd\n",
    "import numpy as np"
   ]
  },
  {
   "cell_type": "code",
   "execution_count": 4,
   "id": "702daceb",
   "metadata": {},
   "outputs": [],
   "source": [
    "dt = pd.read_excel('gpay_reviews.xlsx')"
   ]
  },
  {
   "cell_type": "code",
   "execution_count": 6,
   "id": "ea7f0c7f",
   "metadata": {},
   "outputs": [
    {
     "data": {
      "text/html": [
       "<div>\n",
       "<style scoped>\n",
       "    .dataframe tbody tr th:only-of-type {\n",
       "        vertical-align: middle;\n",
       "    }\n",
       "\n",
       "    .dataframe tbody tr th {\n",
       "        vertical-align: top;\n",
       "    }\n",
       "\n",
       "    .dataframe thead th {\n",
       "        text-align: right;\n",
       "    }\n",
       "</style>\n",
       "<table border=\"1\" class=\"dataframe\">\n",
       "  <thead>\n",
       "    <tr style=\"text-align: right;\">\n",
       "      <th></th>\n",
       "      <th>Unnamed: 0</th>\n",
       "      <th>reviewId</th>\n",
       "      <th>userName</th>\n",
       "      <th>userImage</th>\n",
       "      <th>content</th>\n",
       "      <th>score</th>\n",
       "      <th>thumbsUpCount</th>\n",
       "      <th>reviewCreatedVersion</th>\n",
       "      <th>at</th>\n",
       "      <th>replyContent</th>\n",
       "      <th>repliedAt</th>\n",
       "    </tr>\n",
       "  </thead>\n",
       "  <tbody>\n",
       "    <tr>\n",
       "      <th>0</th>\n",
       "      <td>489</td>\n",
       "      <td>bf5eaa39-276b-4d73-8280-b300e2f4b8f3</td>\n",
       "      <td>HR Hmingsangthang</td>\n",
       "      <td>https://play-lh.googleusercontent.com/a/AEdFTp...</td>\n",
       "      <td>The first time recharging my mobile is still s...</td>\n",
       "      <td>1</td>\n",
       "      <td>0</td>\n",
       "      <td>170.1.5 (arm64-v8a_release_flutter)</td>\n",
       "      <td>2023-02-08 08:38:14</td>\n",
       "      <td>Regret the inconvenience. We suggest you conta...</td>\n",
       "      <td>2023-02-07 12:23:59</td>\n",
       "    </tr>\n",
       "    <tr>\n",
       "      <th>1</th>\n",
       "      <td>17</td>\n",
       "      <td>b66552b7-5892-45ea-a63d-1d5416627992</td>\n",
       "      <td>Vasant Shetty</td>\n",
       "      <td>https://play-lh.googleusercontent.com/a-/AD5-W...</td>\n",
       "      <td>Lately the app takes a lot of time to scan QR ...</td>\n",
       "      <td>3</td>\n",
       "      <td>1</td>\n",
       "      <td>170.1.5 (arm64-v8a_release_flutter)</td>\n",
       "      <td>2023-02-06 19:19:47</td>\n",
       "      <td>Regret the inconvenience, Vasant. We suggest y...</td>\n",
       "      <td>2023-02-06 19:34:13</td>\n",
       "    </tr>\n",
       "    <tr>\n",
       "      <th>2</th>\n",
       "      <td>89</td>\n",
       "      <td>5268b111-240e-4bd1-920c-e431b2a31e8c</td>\n",
       "      <td>Sushmita Singh</td>\n",
       "      <td>https://play-lh.googleusercontent.com/a-/AD5-W...</td>\n",
       "      <td>I have been using gpay for a long time now but...</td>\n",
       "      <td>2</td>\n",
       "      <td>1</td>\n",
       "      <td>169.1.8 (arm64-v8a_release_flutter)</td>\n",
       "      <td>2023-01-22 17:06:08</td>\n",
       "      <td>Regret the inconvenience, Sushmita. We suggest...</td>\n",
       "      <td>2023-01-22 17:42:37</td>\n",
       "    </tr>\n",
       "    <tr>\n",
       "      <th>3</th>\n",
       "      <td>95</td>\n",
       "      <td>07038545-077d-4f2b-a878-55e8cb5de3b6</td>\n",
       "      <td>ammayappan annamalai</td>\n",
       "      <td>https://play-lh.googleusercontent.com/a-/AD5-W...</td>\n",
       "      <td>I had been using this app for 4 years until la...</td>\n",
       "      <td>1</td>\n",
       "      <td>1</td>\n",
       "      <td>170.1.5 (arm64-v8a_release_flutter)</td>\n",
       "      <td>2023-01-30 23:20:01</td>\n",
       "      <td>Regret the inconvenience, Ammayappan. We sugge...</td>\n",
       "      <td>2023-01-30 23:29:52</td>\n",
       "    </tr>\n",
       "    <tr>\n",
       "      <th>4</th>\n",
       "      <td>106</td>\n",
       "      <td>84865e04-99c8-4967-a96a-d82b80c19893</td>\n",
       "      <td>Entertainment</td>\n",
       "      <td>https://play-lh.googleusercontent.com/a-/AD5-W...</td>\n",
       "      <td>It's been more than 4 yrs i am using.. i never...</td>\n",
       "      <td>1</td>\n",
       "      <td>1</td>\n",
       "      <td>170.1.5 (arm64-v8a_release_flutter)</td>\n",
       "      <td>2023-02-03 17:05:40</td>\n",
       "      <td>Regret the inconvenience. Please ensure that y...</td>\n",
       "      <td>2023-02-03 17:16:44</td>\n",
       "    </tr>\n",
       "  </tbody>\n",
       "</table>\n",
       "</div>"
      ],
      "text/plain": [
       "   Unnamed: 0                              reviewId              userName  \\\n",
       "0         489  bf5eaa39-276b-4d73-8280-b300e2f4b8f3     HR Hmingsangthang   \n",
       "1          17  b66552b7-5892-45ea-a63d-1d5416627992         Vasant Shetty   \n",
       "2          89  5268b111-240e-4bd1-920c-e431b2a31e8c        Sushmita Singh   \n",
       "3          95  07038545-077d-4f2b-a878-55e8cb5de3b6  ammayappan annamalai   \n",
       "4         106  84865e04-99c8-4967-a96a-d82b80c19893         Entertainment   \n",
       "\n",
       "                                           userImage  \\\n",
       "0  https://play-lh.googleusercontent.com/a/AEdFTp...   \n",
       "1  https://play-lh.googleusercontent.com/a-/AD5-W...   \n",
       "2  https://play-lh.googleusercontent.com/a-/AD5-W...   \n",
       "3  https://play-lh.googleusercontent.com/a-/AD5-W...   \n",
       "4  https://play-lh.googleusercontent.com/a-/AD5-W...   \n",
       "\n",
       "                                             content  score  thumbsUpCount  \\\n",
       "0  The first time recharging my mobile is still s...      1              0   \n",
       "1  Lately the app takes a lot of time to scan QR ...      3              1   \n",
       "2  I have been using gpay for a long time now but...      2              1   \n",
       "3  I had been using this app for 4 years until la...      1              1   \n",
       "4  It's been more than 4 yrs i am using.. i never...      1              1   \n",
       "\n",
       "                  reviewCreatedVersion                  at  \\\n",
       "0  170.1.5 (arm64-v8a_release_flutter) 2023-02-08 08:38:14   \n",
       "1  170.1.5 (arm64-v8a_release_flutter) 2023-02-06 19:19:47   \n",
       "2  169.1.8 (arm64-v8a_release_flutter) 2023-01-22 17:06:08   \n",
       "3  170.1.5 (arm64-v8a_release_flutter) 2023-01-30 23:20:01   \n",
       "4  170.1.5 (arm64-v8a_release_flutter) 2023-02-03 17:05:40   \n",
       "\n",
       "                                        replyContent           repliedAt  \n",
       "0  Regret the inconvenience. We suggest you conta... 2023-02-07 12:23:59  \n",
       "1  Regret the inconvenience, Vasant. We suggest y... 2023-02-06 19:34:13  \n",
       "2  Regret the inconvenience, Sushmita. We suggest... 2023-01-22 17:42:37  \n",
       "3  Regret the inconvenience, Ammayappan. We sugge... 2023-01-30 23:29:52  \n",
       "4  Regret the inconvenience. Please ensure that y... 2023-02-03 17:16:44  "
      ]
     },
     "execution_count": 6,
     "metadata": {},
     "output_type": "execute_result"
    }
   ],
   "source": [
    "dt.head()"
   ]
  },
  {
   "cell_type": "code",
   "execution_count": 7,
   "id": "b9cdf672",
   "metadata": {},
   "outputs": [
    {
     "data": {
      "text/plain": [
       "2.0"
      ]
     },
     "execution_count": 7,
     "metadata": {},
     "output_type": "execute_result"
    }
   ],
   "source": [
    "dt.thumbsUpCount.median()"
   ]
  },
  {
   "cell_type": "code",
   "execution_count": 10,
   "id": "f919e0d2",
   "metadata": {},
   "outputs": [],
   "source": [
    "dt1 = dt.thumbsUpCount.sort_values()"
   ]
  },
  {
   "cell_type": "code",
   "execution_count": 11,
   "id": "927fa4b8",
   "metadata": {},
   "outputs": [
    {
     "data": {
      "text/plain": [
       "2.0"
      ]
     },
     "execution_count": 11,
     "metadata": {},
     "output_type": "execute_result"
    }
   ],
   "source": [
    "dt1.median()"
   ]
  },
  {
   "cell_type": "code",
   "execution_count": 13,
   "id": "24ec5d38",
   "metadata": {},
   "outputs": [
    {
     "ename": "AttributeError",
     "evalue": "'Series' object has no attribute 'thumbsUpCount'",
     "output_type": "error",
     "traceback": [
      "\u001b[1;31m---------------------------------------------------------------------------\u001b[0m",
      "\u001b[1;31mAttributeError\u001b[0m                            Traceback (most recent call last)",
      "\u001b[1;32m<ipython-input-13-eab72273af69>\u001b[0m in \u001b[0;36m<module>\u001b[1;34m\u001b[0m\n\u001b[1;32m----> 1\u001b[1;33m \u001b[0mdt2\u001b[0m \u001b[1;33m=\u001b[0m \u001b[0mdt1\u001b[0m\u001b[1;33m[\u001b[0m\u001b[0mdt1\u001b[0m\u001b[1;33m.\u001b[0m\u001b[0mthumbsUpCount\u001b[0m \u001b[1;33m>=\u001b[0m \u001b[1;36m2.0\u001b[0m\u001b[1;33m]\u001b[0m\u001b[1;33m\u001b[0m\u001b[1;33m\u001b[0m\u001b[0m\n\u001b[0m",
      "\u001b[1;32mc:\\users\\sanjeevani kashyap\\appdata\\local\\programs\\python\\python38\\lib\\site-packages\\pandas\\core\\generic.py\u001b[0m in \u001b[0;36m__getattr__\u001b[1;34m(self, name)\u001b[0m\n\u001b[0;32m   5463\u001b[0m             \u001b[1;32mif\u001b[0m \u001b[0mself\u001b[0m\u001b[1;33m.\u001b[0m\u001b[0m_info_axis\u001b[0m\u001b[1;33m.\u001b[0m\u001b[0m_can_hold_identifiers_and_holds_name\u001b[0m\u001b[1;33m(\u001b[0m\u001b[0mname\u001b[0m\u001b[1;33m)\u001b[0m\u001b[1;33m:\u001b[0m\u001b[1;33m\u001b[0m\u001b[1;33m\u001b[0m\u001b[0m\n\u001b[0;32m   5464\u001b[0m                 \u001b[1;32mreturn\u001b[0m \u001b[0mself\u001b[0m\u001b[1;33m[\u001b[0m\u001b[0mname\u001b[0m\u001b[1;33m]\u001b[0m\u001b[1;33m\u001b[0m\u001b[1;33m\u001b[0m\u001b[0m\n\u001b[1;32m-> 5465\u001b[1;33m             \u001b[1;32mreturn\u001b[0m \u001b[0mobject\u001b[0m\u001b[1;33m.\u001b[0m\u001b[0m__getattribute__\u001b[0m\u001b[1;33m(\u001b[0m\u001b[0mself\u001b[0m\u001b[1;33m,\u001b[0m \u001b[0mname\u001b[0m\u001b[1;33m)\u001b[0m\u001b[1;33m\u001b[0m\u001b[1;33m\u001b[0m\u001b[0m\n\u001b[0m\u001b[0;32m   5466\u001b[0m \u001b[1;33m\u001b[0m\u001b[0m\n\u001b[0;32m   5467\u001b[0m     \u001b[1;32mdef\u001b[0m \u001b[0m__setattr__\u001b[0m\u001b[1;33m(\u001b[0m\u001b[0mself\u001b[0m\u001b[1;33m,\u001b[0m \u001b[0mname\u001b[0m\u001b[1;33m:\u001b[0m \u001b[0mstr\u001b[0m\u001b[1;33m,\u001b[0m \u001b[0mvalue\u001b[0m\u001b[1;33m)\u001b[0m \u001b[1;33m->\u001b[0m \u001b[1;32mNone\u001b[0m\u001b[1;33m:\u001b[0m\u001b[1;33m\u001b[0m\u001b[1;33m\u001b[0m\u001b[0m\n",
      "\u001b[1;31mAttributeError\u001b[0m: 'Series' object has no attribute 'thumbsUpCount'"
     ]
    }
   ],
   "source": [
    "dt2 = dt1[dt1.thumbsUpCount >= 2.0]"
   ]
  },
  {
   "cell_type": "code",
   "execution_count": null,
   "id": "a20078df",
   "metadata": {},
   "outputs": [],
   "source": []
  }
 ],
 "metadata": {
  "kernelspec": {
   "display_name": "Python 3",
   "language": "python",
   "name": "python3"
  },
  "language_info": {
   "codemirror_mode": {
    "name": "ipython",
    "version": 3
   },
   "file_extension": ".py",
   "mimetype": "text/x-python",
   "name": "python",
   "nbconvert_exporter": "python",
   "pygments_lexer": "ipython3",
   "version": "3.8.6rc1"
  }
 },
 "nbformat": 4,
 "nbformat_minor": 5
}
